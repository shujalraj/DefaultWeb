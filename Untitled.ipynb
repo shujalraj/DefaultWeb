{
 "cells": [
  {
   "cell_type": "code",
   "execution_count": 8,
   "metadata": {},
   "outputs": [
    {
     "name": "stdout",
     "output_type": "stream",
     "text": [
      "{'Oranges, 1kg': 155, 'Bananas, 1kg': 155, 'Apples, 1kg': 155, 'Kiwifruit, 1kg': 155, 'Sultanas (supermarket only), 375g': 155, 'Peaches - canned (supermarket only), 410g': 155, 'Lettuce, 1kg': 155, 'Broccoli, 1kg': 155, 'Cabbage, 1kg': 155, 'Tomatoes, 1kg': 155, 'Carrots, 1kg': 155, 'Mushrooms, 1kg': 155, 'Potatoes, 1kg': 155, 'Peas - frozen (supermarket only), 1kg': 155, 'Beef steak - blade, 1kg': 155, 'Beef steak - porterhouse/sirloin, 1kg': 155, 'Beef - mince, 1kg': 155, 'Pork - loin chops, 1kg': 155, 'Lamb - chops, 1kg': 155, 'Sausages, 1kg': 155, 'Tuna - canned (supermarket only), 185g': 155, 'Biscuits - chocolate, 200g': 155, 'Breakfast biscuits, 1kg': 155, 'Flour - white (supermarket only), 1.5kg': 155, 'Rice - long grain, white (supermarket only), 1kg': 155, 'Milk - standard homogenised, 2 litres': 155, 'Yoghurt - flavoured, 150g pottle (supermarket only), pk of 6': 155, 'Cheese - mild cheddar (supermarket only), 1kg': 155, 'Eggs, dozen': 155, 'Butter - salted, 500g': 155, 'Sugar - white, 1.5kg': 155, 'Chocolate - block (supermarket only), 250g': 155, 'Spaghetti - canned, 420g': 155, 'Coffee - instant, 100g': 155, 'Tea bags (supermarket only), box of 100': 155, 'Soft drink, 1.5 litres': 155, 'Bottled water, 750ml': 155, 'Fish and chips, One fish/chips': 155, 'Meat pie - hot, each': 155, 'Fruit juice - apple based (supermarket only), 3 litre': 95, 'Potato crisps, 150g': 95, 'Tomato sauce - canned, 560g': 95, 'Bacon - middle rashers (supermarket only), 700g': 59, 'Chicken breast, 1kg': 59, 'Bread - white sliced loaf, 600g': 155, 'Apricots, dried, 100g': 94, 'Avocado, 1kg': 147, 'Baby food, 110g': 147, 'Beans, 1kg': 147, 'Bread rolls, filled, hot, each': 147, 'Bread rolls, hamburger buns, 6 pack': 147, 'Breakfast drink, 250ml, 6 pack': 58, 'Burger, with or without accompaniments, each': 147, 'Soup, canned, 500g': 147, 'Capsicums, green, else red, 1kg': 147, 'Cauliflower, 1kg': 147, 'Celery, 1kg': 147, 'Cheese, camembert, 125g': 147, 'Cheese, processed slices, 250g': 147, 'Chicken, cooked, whole, No. 15 - Cheapest Available': 130, 'Chicken pieces (excluding breast), boneless or bone in, 1kg': 58, 'Chicken, whole, frozen, No. 15 - Cheapest Available': 147, 'Chicken nuggets, frozen, 1kg': 94, 'Chilled fruit juice or smoothies, 1 to 1.5 litre': 130, 'Chocolate, boxed, loose, 250g': 147, 'Chocolate blocks, convenience stores, 100g to 250g': 147, 'Chocolate novelty bars, 50g': 147, 'Corn flakes, 500g': 147, 'Corned beef, fresh, chilled or frozen, 1kg': 147, 'Courgettes, 1kg': 147, 'Biscuits, savoury, crackers 250g': 147, 'Cream, 300ml - Cheapest Available': 147, 'Cucumber, 1kg': 147, 'Dessert, frozen, 500g': 130, 'Fruit flavoured drink powder, multipack of 3 to 5': 147, 'Dried pasta, spaghetti or other type, 500g': 130, 'Drinking chocolate, 300g': 147, 'Milk, calcium enriched, 2 litres': 147, 'Fish fillets, frozen, multipack, 500g': 147, 'Flat bread - pita, tortilla, or other type': 94, 'Eggs, free range, 6 pack': 130, 'Fresh fish, 1kg': 147, 'Fresh pasta, tortellini or other filled type, 300g': 130, 'Fried and other takeaway chicken, 5 pieces': 147, 'Berries, frozen, 500g': 94, 'Grapes, green or red': 147, 'Coffee, ground, 200g': 147, 'Honey, clover, creamed, 500g': 147, 'Hot chips, hot wedges': 147, 'Hummus dip, 200g': 130, 'Ice block, water based, each': 147, 'Ice cream bought in bulk, 2 litres': 147, 'Ice cream novelty, chocolate coated, each': 147, 'Infant formula, 900g': 147, 'Jam, 375g': 147, 'Kumara, 1kg': 147, 'Mandarins, 1kg': 147, 'Mussels, marinated, 375g': 147, 'Meat pies, chilled, 6 or 8 pack - Cheapest Available': 147, 'Mixed vegetables, frozen, 1kg': 147, 'Muesli, natural or toasted, 750g': 147, 'Muesli/cereal bars, 200g': 130, 'Mussels, live, 1kg': 147, 'Sandwich, fresh or toasted': 155, 'Olive oil, pure, not extra virgin or light, 1 litre': 147, 'Onions, 1kg': 147, 'Orange juice, not apple based, 1 litre - Cheapest Available': 94, 'Packaged cake slice, 300g': 147, 'Parsnips, 1kg': 147, 'Packaged meal, pasta and sauce, 130g': 147, 'Pasta sauces, tomato based, 500g': 147, 'Pastry, frozen sheets, puff or flaky, 800g': 147, 'Pears, 1kg': 147, 'Pineapple, pieces, in juice or syrup, canned, 425g': 147, 'Pineapple, 1kg': 130, 'Biscuits, plain (eg arrowroot, ginger, malt, wine), 250g': 147, 'Potato fries, frozen, 1kg': 147, 'Prawns, frozen, 700g': 58, 'Prepared meals, frozen, 340g': 147, 'Pumpkin, 1kg': 147, 'Roasting lamb and hogget, fresh, chilled or frozen, 1kg': 147, 'Roasting pork, fresh, chilled or frozen, 1kg': 147, 'Salad, leaf, packaged, 150g': 58, 'Salami, 100g': 147, 'Salmon, imported, pink, canned, unflavoured, 210g': 147, 'Soft drinks, poured': 147, 'Soft drinks, 600ml': 147, 'Soy milk, unflavoured, 1 litre': 130, 'Soy sauce, 300ml': 147, 'Sports energy drinks, 350ml': 58, 'Sports energy drinks, 250ml': 58, 'Two minute noodles, multipack,5': 147, 'Peanut butter, not salt free, 375g': 155, 'Sweets, 200g': 147, 'Cakes and biscuits, takeaway': 147, 'Coffee, takeway, each': 147, 'Cookie, takeaway, each': 147, 'Takeaway muffins and buns, each': 147, 'Pizza, takeaway': 147, 'Salad, takeaway, vegetable, 1kg': 147, 'Tea, takeaway': 147, 'Tomatoes, canned, 400g': 147, 'Vinegar, 750ml': 147, 'Wheatmeal bread, sliced, 700g': 147, 'Wholegrain bread, sliced, 700g': 147, 'Fresh herbs, packaged, chilled': 19, 'Olives, jar, 400g': 19, 'Tea bags, flavoured or herbal, box of 25': 19, 'Pizza, fresh or frozen, with any standard topping, each': 155, 'Margarine/table spread, 500g': 155, 'Mayonnaise, 380ml': 155, 'Dried mixed herbs, 10g to 15g': 155, 'Peanuts, blanched, salted, 250g': 155, 'Ham, sliced or shaved, 1kg': 155, 'Chewing gum, packet, each': 131}\n"
     ]
    }
   ],
   "source": [
    "opened_file = open('D:\\\\Study Material\\\\Python\\\\food-price-index-april-2019-csv\\\\File3.csv')\n",
    "from csv import reader\n",
    "read_file = reader(opened_file)\n",
    "apps_data = list(read_file)\n",
    "\n",
    "# INITIAL FUNCTION\n",
    "def freq_table(index):\n",
    "    frequency_table = {}\n",
    "    \n",
    "    for row in apps_data[1:]:\n",
    "        value = row[index]\n",
    "        if value in frequency_table:\n",
    "            frequency_table[value] += 1\n",
    "        else:\n",
    "            frequency_table[value] = 1\n",
    "    return frequency_table\n",
    "ratings_ft = freq_table(7)\n",
    "print (ratings_ft)"
   ]
  },
  {
   "cell_type": "code",
   "execution_count": null,
   "metadata": {},
   "outputs": [],
   "source": []
  },
  {
   "cell_type": "code",
   "execution_count": null,
   "metadata": {},
   "outputs": [],
   "source": []
  },
  {
   "cell_type": "code",
   "execution_count": null,
   "metadata": {},
   "outputs": [],
   "source": []
  }
 ],
 "metadata": {
  "kernelspec": {
   "display_name": "Python 3",
   "language": "python",
   "name": "python3"
  },
  "language_info": {
   "codemirror_mode": {
    "name": "ipython",
    "version": 3
   },
   "file_extension": ".py",
   "mimetype": "text/x-python",
   "name": "python",
   "nbconvert_exporter": "python",
   "pygments_lexer": "ipython3",
   "version": "3.7.3"
  }
 },
 "nbformat": 4,
 "nbformat_minor": 2
}
